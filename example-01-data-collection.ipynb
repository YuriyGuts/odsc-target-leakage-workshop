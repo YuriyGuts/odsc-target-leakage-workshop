{
 "cells": [
  {
   "cell_type": "markdown",
   "metadata": {},
   "source": [
    "# Target Leakage in Machine Learning"
   ]
  },
  {
   "cell_type": "markdown",
   "metadata": {},
   "source": [
    "© Yuriy Guts, 2018"
   ]
  },
  {
   "cell_type": "markdown",
   "metadata": {},
   "source": [
    "## Example 01: Data Collection Stage"
   ]
  },
  {
   "cell_type": "markdown",
   "metadata": {},
   "source": [
    "In this example, we will explore how including the features that strongly describe the target but are not available at prediction time affect our confidence in the out-of-sample performance of our model."
   ]
  },
  {
   "cell_type": "code",
   "execution_count": 1,
   "metadata": {
    "collapsed": true
   },
   "outputs": [],
   "source": [
    "import numpy as np\n",
    "import pandas as pd\n",
    "import matplotlib.pyplot as plt"
   ]
  },
  {
   "cell_type": "code",
   "execution_count": 2,
   "metadata": {
    "collapsed": true
   },
   "outputs": [],
   "source": [
    "import xgboost as xgb"
   ]
  },
  {
   "cell_type": "code",
   "execution_count": 3,
   "metadata": {
    "collapsed": true
   },
   "outputs": [],
   "source": [
    "from sklearn.model_selection import KFold, cross_val_score"
   ]
  },
  {
   "cell_type": "code",
   "execution_count": 4,
   "metadata": {
    "collapsed": true
   },
   "outputs": [],
   "source": [
    "%matplotlib inline"
   ]
  },
  {
   "cell_type": "markdown",
   "metadata": {},
   "source": [
    "### Read Data"
   ]
  },
  {
   "cell_type": "markdown",
   "metadata": {},
   "source": [
    "Let's load the (slightly modified) [semi-annual Ukrainian developer salary survey](https://github.com/imax/dou-salaries/)."
   ]
  },
  {
   "cell_type": "code",
   "execution_count": 5,
   "metadata": {
    "collapsed": true
   },
   "outputs": [],
   "source": [
    "df = pd.read_csv('data/dou-ua-engineer-salaries-2018-eng.csv')"
   ]
  },
  {
   "cell_type": "code",
   "execution_count": 6,
   "metadata": {},
   "outputs": [
    {
     "data": {
      "text/plain": [
       "Age                             int64\n",
       "AnnualIncomeUSD                 int64\n",
       "City                           object\n",
       "CompanySize                    object\n",
       "CompanyType                    object\n",
       "CurrentWorkplaceExperience    float64\n",
       "Domain                         object\n",
       "Education                      object\n",
       "EnglishLevel                   object\n",
       "IsStudyingCurrently              bool\n",
       "JobTitle                       object\n",
       "MonthlySalaryUAH                int64\n",
       "ProgrammingLanguage            object\n",
       "ResponseDate                   object\n",
       "Sex                            object\n",
       "Specialization                float64\n",
       "TotalWorkExperience           float64\n",
       "University                     object\n",
       "UserAgent                      object\n",
       "dtype: object"
      ]
     },
     "execution_count": 6,
     "metadata": {},
     "output_type": "execute_result"
    }
   ],
   "source": [
    "df.dtypes"
   ]
  },
  {
   "cell_type": "markdown",
   "metadata": {},
   "source": [
    "## Encode Features"
   ]
  },
  {
   "cell_type": "markdown",
   "metadata": {},
   "source": [
    "Seniority, company size, education, and english level can be derived as ordinal features."
   ]
  },
  {
   "cell_type": "code",
   "execution_count": 7,
   "metadata": {
    "collapsed": true
   },
   "outputs": [],
   "source": [
    "df['Seniority'] = df['JobTitle'].map({\n",
    "    'Junior Software Engineer': 1,\n",
    "    'Software Engineer': 2,\n",
    "    'Senior Software Engineer': 3,\n",
    "}).astype(int)"
   ]
  },
  {
   "cell_type": "code",
   "execution_count": 8,
   "metadata": {
    "collapsed": true
   },
   "outputs": [],
   "source": [
    "df['CompanySize'] = df['CompanySize'].map({\n",
    "    '1-10 employees': 1,\n",
    "    '11-50 employees': 2,\n",
    "    '51-200 employees': 3,\n",
    "    '201-1000 employees': 4,\n",
    "    '1001+ employees': 5,\n",
    "}).astype(int)"
   ]
  },
  {
   "cell_type": "code",
   "execution_count": 9,
   "metadata": {
    "collapsed": true
   },
   "outputs": [],
   "source": [
    "df['Education'] = df['Education'].map({\n",
    "    'Secondary': 1,\n",
    "    'Vocational': 2,\n",
    "    'Unfinished higher': 3,\n",
    "    'Higher': 4,\n",
    "    'Two higher': 5,\n",
    "    'Postgraduate': 6,\n",
    "}).astype(int)"
   ]
  },
  {
   "cell_type": "code",
   "execution_count": 10,
   "metadata": {
    "collapsed": true
   },
   "outputs": [],
   "source": [
    "df['EnglishLevel'] = df['EnglishLevel'].map({\n",
    "    'Elementary': 1,\n",
    "    'Pre-Intermediate': 2,\n",
    "    'Intermediate': 3,\n",
    "    'Upper-Intermediate': 4,\n",
    "    'Advanced': 5,\n",
    "}).astype(int)"
   ]
  },
  {
   "cell_type": "code",
   "execution_count": 11,
   "metadata": {
    "collapsed": true
   },
   "outputs": [],
   "source": [
    "df['IsFemale'] = pd.get_dummies(df['Sex'])['female'].astype(int)"
   ]
  },
  {
   "cell_type": "markdown",
   "metadata": {},
   "source": [
    "One-hot encode the company type."
   ]
  },
  {
   "cell_type": "code",
   "execution_count": 12,
   "metadata": {
    "collapsed": true
   },
   "outputs": [],
   "source": [
    "df[['CompanyTypeOther', 'CompanyTypeOutsourcing', 'CompanyTypeOutstaffing',\n",
    "    'CompanyTypeProduct', 'CompanyTypeStartup']] = pd.get_dummies(df['CompanyType']).astype(int)"
   ]
  },
  {
   "cell_type": "markdown",
   "metadata": {},
   "source": [
    "Let's not bother with encoding some features in this example, just remove them."
   ]
  },
  {
   "cell_type": "code",
   "execution_count": 13,
   "metadata": {
    "collapsed": true
   },
   "outputs": [],
   "source": [
    "df.drop(['City', 'CompanyType', 'Domain', 'JobTitle', 'ProgrammingLanguage',\n",
    "         'ResponseDate', 'Sex', 'Specialization', 'University', 'UserAgent'],\n",
    "        axis=1, inplace=True)"
   ]
  },
  {
   "cell_type": "code",
   "execution_count": 14,
   "metadata": {
    "scrolled": true
   },
   "outputs": [
    {
     "data": {
      "text/plain": [
       "Age                             int64\n",
       "AnnualIncomeUSD                 int64\n",
       "CompanySize                     int64\n",
       "CurrentWorkplaceExperience    float64\n",
       "Education                       int64\n",
       "EnglishLevel                    int64\n",
       "IsStudyingCurrently              bool\n",
       "MonthlySalaryUAH                int64\n",
       "TotalWorkExperience           float64\n",
       "Seniority                       int64\n",
       "IsFemale                        int64\n",
       "CompanyTypeOther                int64\n",
       "CompanyTypeOutsourcing          int64\n",
       "CompanyTypeOutstaffing          int64\n",
       "CompanyTypeProduct              int64\n",
       "CompanyTypeStartup              int64\n",
       "dtype: object"
      ]
     },
     "execution_count": 14,
     "metadata": {},
     "output_type": "execute_result"
    }
   ],
   "source": [
    "df.dtypes"
   ]
  },
  {
   "cell_type": "code",
   "execution_count": 15,
   "metadata": {},
   "outputs": [
    {
     "data": {
      "text/plain": [
       "Age                           0\n",
       "AnnualIncomeUSD               0\n",
       "CompanySize                   0\n",
       "CurrentWorkplaceExperience    0\n",
       "Education                     0\n",
       "EnglishLevel                  0\n",
       "IsStudyingCurrently           0\n",
       "MonthlySalaryUAH              0\n",
       "TotalWorkExperience           0\n",
       "Seniority                     0\n",
       "IsFemale                      0\n",
       "CompanyTypeOther              0\n",
       "CompanyTypeOutsourcing        0\n",
       "CompanyTypeOutstaffing        0\n",
       "CompanyTypeProduct            0\n",
       "CompanyTypeStartup            0\n",
       "dtype: int64"
      ]
     },
     "execution_count": 15,
     "metadata": {},
     "output_type": "execute_result"
    }
   ],
   "source": [
    "df.isnull().sum()"
   ]
  },
  {
   "cell_type": "code",
   "execution_count": 16,
   "metadata": {},
   "outputs": [
    {
     "data": {
      "text/html": [
       "<div>\n",
       "<style>\n",
       "    .dataframe thead tr:only-child th {\n",
       "        text-align: right;\n",
       "    }\n",
       "\n",
       "    .dataframe thead th {\n",
       "        text-align: left;\n",
       "    }\n",
       "\n",
       "    .dataframe tbody tr th {\n",
       "        vertical-align: top;\n",
       "    }\n",
       "</style>\n",
       "<table border=\"1\" class=\"dataframe\">\n",
       "  <thead>\n",
       "    <tr style=\"text-align: right;\">\n",
       "      <th></th>\n",
       "      <th>Age</th>\n",
       "      <th>AnnualIncomeUSD</th>\n",
       "      <th>CompanySize</th>\n",
       "      <th>CurrentWorkplaceExperience</th>\n",
       "      <th>Education</th>\n",
       "      <th>EnglishLevel</th>\n",
       "      <th>IsStudyingCurrently</th>\n",
       "      <th>MonthlySalaryUAH</th>\n",
       "      <th>TotalWorkExperience</th>\n",
       "      <th>Seniority</th>\n",
       "      <th>IsFemale</th>\n",
       "      <th>CompanyTypeOther</th>\n",
       "      <th>CompanyTypeOutsourcing</th>\n",
       "      <th>CompanyTypeOutstaffing</th>\n",
       "      <th>CompanyTypeProduct</th>\n",
       "      <th>CompanyTypeStartup</th>\n",
       "    </tr>\n",
       "  </thead>\n",
       "  <tbody>\n",
       "    <tr>\n",
       "      <th>0</th>\n",
       "      <td>37</td>\n",
       "      <td>6000</td>\n",
       "      <td>2</td>\n",
       "      <td>10.0</td>\n",
       "      <td>4</td>\n",
       "      <td>2</td>\n",
       "      <td>False</td>\n",
       "      <td>14000</td>\n",
       "      <td>10.0</td>\n",
       "      <td>2</td>\n",
       "      <td>0</td>\n",
       "      <td>1</td>\n",
       "      <td>0</td>\n",
       "      <td>0</td>\n",
       "      <td>0</td>\n",
       "      <td>0</td>\n",
       "    </tr>\n",
       "    <tr>\n",
       "      <th>1</th>\n",
       "      <td>23</td>\n",
       "      <td>24000</td>\n",
       "      <td>2</td>\n",
       "      <td>2.0</td>\n",
       "      <td>4</td>\n",
       "      <td>4</td>\n",
       "      <td>False</td>\n",
       "      <td>56000</td>\n",
       "      <td>3.0</td>\n",
       "      <td>2</td>\n",
       "      <td>0</td>\n",
       "      <td>0</td>\n",
       "      <td>0</td>\n",
       "      <td>0</td>\n",
       "      <td>1</td>\n",
       "      <td>0</td>\n",
       "    </tr>\n",
       "    <tr>\n",
       "      <th>2</th>\n",
       "      <td>27</td>\n",
       "      <td>45000</td>\n",
       "      <td>3</td>\n",
       "      <td>0.0</td>\n",
       "      <td>2</td>\n",
       "      <td>3</td>\n",
       "      <td>False</td>\n",
       "      <td>105000</td>\n",
       "      <td>3.0</td>\n",
       "      <td>3</td>\n",
       "      <td>0</td>\n",
       "      <td>0</td>\n",
       "      <td>1</td>\n",
       "      <td>0</td>\n",
       "      <td>0</td>\n",
       "      <td>0</td>\n",
       "    </tr>\n",
       "    <tr>\n",
       "      <th>3</th>\n",
       "      <td>23</td>\n",
       "      <td>18000</td>\n",
       "      <td>3</td>\n",
       "      <td>2.0</td>\n",
       "      <td>4</td>\n",
       "      <td>3</td>\n",
       "      <td>False</td>\n",
       "      <td>42000</td>\n",
       "      <td>2.0</td>\n",
       "      <td>2</td>\n",
       "      <td>0</td>\n",
       "      <td>0</td>\n",
       "      <td>0</td>\n",
       "      <td>0</td>\n",
       "      <td>1</td>\n",
       "      <td>0</td>\n",
       "    </tr>\n",
       "    <tr>\n",
       "      <th>4</th>\n",
       "      <td>27</td>\n",
       "      <td>43200</td>\n",
       "      <td>4</td>\n",
       "      <td>0.5</td>\n",
       "      <td>4</td>\n",
       "      <td>4</td>\n",
       "      <td>False</td>\n",
       "      <td>100800</td>\n",
       "      <td>6.0</td>\n",
       "      <td>2</td>\n",
       "      <td>0</td>\n",
       "      <td>0</td>\n",
       "      <td>0</td>\n",
       "      <td>0</td>\n",
       "      <td>1</td>\n",
       "      <td>0</td>\n",
       "    </tr>\n",
       "  </tbody>\n",
       "</table>\n",
       "</div>"
      ],
      "text/plain": [
       "   Age  AnnualIncomeUSD  CompanySize  CurrentWorkplaceExperience  Education  \\\n",
       "0   37             6000            2                        10.0          4   \n",
       "1   23            24000            2                         2.0          4   \n",
       "2   27            45000            3                         0.0          2   \n",
       "3   23            18000            3                         2.0          4   \n",
       "4   27            43200            4                         0.5          4   \n",
       "\n",
       "   EnglishLevel  IsStudyingCurrently  MonthlySalaryUAH  TotalWorkExperience  \\\n",
       "0             2                False             14000                 10.0   \n",
       "1             4                False             56000                  3.0   \n",
       "2             3                False            105000                  3.0   \n",
       "3             3                False             42000                  2.0   \n",
       "4             4                False            100800                  6.0   \n",
       "\n",
       "   Seniority  IsFemale  CompanyTypeOther  CompanyTypeOutsourcing  \\\n",
       "0          2         0                 1                       0   \n",
       "1          2         0                 0                       0   \n",
       "2          3         0                 0                       1   \n",
       "3          2         0                 0                       0   \n",
       "4          2         0                 0                       0   \n",
       "\n",
       "   CompanyTypeOutstaffing  CompanyTypeProduct  CompanyTypeStartup  \n",
       "0                       0                   0                   0  \n",
       "1                       0                   1                   0  \n",
       "2                       0                   0                   0  \n",
       "3                       0                   1                   0  \n",
       "4                       0                   1                   0  "
      ]
     },
     "execution_count": 16,
     "metadata": {},
     "output_type": "execute_result"
    }
   ],
   "source": [
    "df.head(5)"
   ]
  },
  {
   "cell_type": "markdown",
   "metadata": {},
   "source": [
    "Everything looks clean, let's now train and cross-validate the model."
   ]
  },
  {
   "cell_type": "markdown",
   "metadata": {},
   "source": [
    "### Train and Evaluate Model"
   ]
  },
  {
   "cell_type": "code",
   "execution_count": 17,
   "metadata": {
    "collapsed": true
   },
   "outputs": [],
   "source": [
    "y = df['AnnualIncomeUSD']"
   ]
  },
  {
   "cell_type": "code",
   "execution_count": 18,
   "metadata": {
    "collapsed": true
   },
   "outputs": [],
   "source": [
    "X = df.drop(['AnnualIncomeUSD'], axis=1)"
   ]
  },
  {
   "cell_type": "code",
   "execution_count": 19,
   "metadata": {
    "collapsed": true
   },
   "outputs": [],
   "source": [
    "model = xgb.XGBRegressor(max_depth=4, learning_rate=0.05, n_estimators=200, objective='reg:linear')"
   ]
  },
  {
   "cell_type": "code",
   "execution_count": 20,
   "metadata": {},
   "outputs": [
    {
     "data": {
      "text/plain": [
       "array([0.99983496, 0.99724655, 0.99999476, 0.99310043, 0.9999892 ])"
      ]
     },
     "execution_count": 20,
     "metadata": {},
     "output_type": "execute_result"
    }
   ],
   "source": [
    "cv = KFold(n_splits=5, shuffle=True, random_state=12345)\n",
    "cross_val_score(model, X, y, scoring='explained_variance', cv=cv)"
   ]
  },
  {
   "cell_type": "markdown",
   "metadata": {
    "collapsed": true
   },
   "source": [
    "**Uuuummmm, what?** The score is almost perfect – too good to be true. Let's check XGBoost feature importances."
   ]
  },
  {
   "cell_type": "code",
   "execution_count": 21,
   "metadata": {
    "collapsed": true,
    "scrolled": true
   },
   "outputs": [],
   "source": [
    "model.fit(X, y)\n",
    "importances = model.get_booster().get_score(importance_type='gain')"
   ]
  },
  {
   "cell_type": "code",
   "execution_count": 22,
   "metadata": {},
   "outputs": [
    {
     "data": {
      "image/png": "[encoded data removed]",
      "text/plain": [
       "<matplotlib.figure.Figure at 0x10a4745f8>"
      ]
     },
     "metadata": {},
     "output_type": "display_data"
    }
   ],
   "source": [
    "plt.figure(figsize=(12, 6))\n",
    "plt.barh(range(len(importances)), list(importances.values()), align='center')\n",
    "plt.yticks(range(len(importances)), list(importances.keys()))\n",
    "plt.show()"
   ]
  },
  {
   "cell_type": "markdown",
   "metadata": {},
   "source": [
    "MonthlySalaryUAH is in another resolution and another currency. But we will not know it at prediction time (the person is not employed there yet)."
   ]
  },
  {
   "cell_type": "markdown",
   "metadata": {},
   "source": [
    "### Fix Leakage"
   ]
  },
  {
   "cell_type": "markdown",
   "metadata": {},
   "source": [
    "Let's remove the leaky feature."
   ]
  },
  {
   "cell_type": "code",
   "execution_count": 23,
   "metadata": {
    "collapsed": true
   },
   "outputs": [],
   "source": [
    "X = X.drop(['MonthlySalaryUAH'], axis=1)"
   ]
  },
  {
   "cell_type": "code",
   "execution_count": 24,
   "metadata": {
    "collapsed": true
   },
   "outputs": [],
   "source": [
    "model = xgb.XGBRegressor(max_depth=4, learning_rate=0.05, n_estimators=200, objective='reg:linear')"
   ]
  },
  {
   "cell_type": "code",
   "execution_count": 25,
   "metadata": {},
   "outputs": [
    {
     "data": {
      "text/plain": [
       "array([0.71805016, 0.74558753, 0.69448406, 0.72093215, 0.71447403])"
      ]
     },
     "execution_count": 25,
     "metadata": {},
     "output_type": "execute_result"
    }
   ],
   "source": [
    "cv = KFold(n_splits=5, shuffle=True, random_state=12345)\n",
    "cross_val_score(model, X, y, scoring='explained_variance', cv=cv)"
   ]
  },
  {
   "cell_type": "markdown",
   "metadata": {},
   "source": [
    "Now everything looks much more reasonable."
   ]
  },
  {
   "cell_type": "code",
   "execution_count": 26,
   "metadata": {
    "collapsed": true
   },
   "outputs": [],
   "source": [
    "model.fit(X, y)\n",
    "importances = model.get_booster().get_score(importance_type='gain')"
   ]
  },
  {
   "cell_type": "code",
   "execution_count": 27,
   "metadata": {},
   "outputs": [
    {
     "data": {
      "image/png": "[encoded data removed]",
      "text/plain": [
       "<matplotlib.figure.Figure at 0x1a127a9828>"
      ]
     },
     "metadata": {},
     "output_type": "display_data"
    }
   ],
   "source": [
    "plt.figure(figsize=(12, 6))\n",
    "plt.barh(range(len(importances)), list(importances.values()), align='center')\n",
    "plt.yticks(range(len(importances)), list(importances.keys()))\n",
    "plt.show()"
   ]
  },
  {
   "cell_type": "markdown",
   "metadata": {},
   "source": [
    "Top features now make a lot of sense from the domain point of view."
   ]
  }
 ],
 "metadata": {
  "kernelspec": {
   "display_name": "Python 3",
   "language": "python",
   "name": "python3"
  },
  "language_info": {
   "codemirror_mode": {
    "name": "ipython",
    "version": 3
   },
   "file_extension": ".py",
   "mimetype": "text/x-python",
   "name": "python",
   "nbconvert_exporter": "python",
   "pygments_lexer": "ipython3",
   "version": "3.6.3"
  }
 },
 "nbformat": 4,
 "nbformat_minor": 2
}
